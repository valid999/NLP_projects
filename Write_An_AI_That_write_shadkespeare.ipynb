{
  "cells": [
    {
      "cell_type": "markdown",
      "metadata": {
        "id": "view-in-github",
        "colab_type": "text"
      },
      "source": [
        "<a href=\"https://colab.research.google.com/github/valid999/NLP_projects/blob/main/Write_An_AI_That_write_shadkespeare.ipynb\" target=\"_parent\"><img src=\"https://colab.research.google.com/assets/colab-badge.svg\" alt=\"Open In Colab\"/></a>"
      ]
    },
    {
      "cell_type": "code",
      "source": [
        "tf.version.VERSION\n"
      ],
      "metadata": {
        "colab": {
          "base_uri": "https://localhost:8080/",
          "height": 36
        },
        "id": "uKkDchYPGRd4",
        "outputId": "ddcd2bc9-0f1c-4b85-e091-ad082a81d1a9"
      },
      "execution_count": 58,
      "outputs": [
        {
          "output_type": "execute_result",
          "data": {
            "text/plain": [
              "'2.14.0'"
            ],
            "application/vnd.google.colaboratory.intrinsic+json": {
              "type": "string"
            }
          },
          "metadata": {},
          "execution_count": 58
        }
      ]
    },
    {
      "cell_type": "code",
      "source": [
        "pip uninstall tensorflow"
      ],
      "metadata": {
        "colab": {
          "base_uri": "https://localhost:8080/"
        },
        "id": "qgeWFXCUGw3e",
        "outputId": "b4f04c6b-4b08-4a92-b638-bd67eaf2fad4"
      },
      "execution_count": 56,
      "outputs": [
        {
          "output_type": "stream",
          "name": "stdout",
          "text": [
            "Found existing installation: tensorflow 2.14.0\n",
            "Uninstalling tensorflow-2.14.0:\n",
            "  Would remove:\n",
            "    /usr/local/bin/estimator_ckpt_converter\n",
            "    /usr/local/bin/import_pb_to_tensorboard\n",
            "    /usr/local/bin/saved_model_cli\n",
            "    /usr/local/bin/tensorboard\n",
            "    /usr/local/bin/tf_upgrade_v2\n",
            "    /usr/local/bin/tflite_convert\n",
            "    /usr/local/bin/toco\n",
            "    /usr/local/bin/toco_from_protos\n",
            "    /usr/local/lib/python3.10/dist-packages/tensorflow-2.14.0.dist-info/*\n",
            "    /usr/local/lib/python3.10/dist-packages/tensorflow/*\n",
            "Proceed (Y/n)? y\n",
            "  Successfully uninstalled tensorflow-2.14.0\n"
          ]
        }
      ]
    },
    {
      "cell_type": "code",
      "source": [
        "pip install tensorflow==2.13.0"
      ],
      "metadata": {
        "colab": {
          "base_uri": "https://localhost:8080/"
        },
        "id": "em72X09yGz_Y",
        "outputId": "e3d951cb-898f-487a-ee2e-581a0decbcb5"
      },
      "execution_count": 59,
      "outputs": [
        {
          "output_type": "stream",
          "name": "stdout",
          "text": [
            "Requirement already satisfied: tensorflow==2.13.0 in /usr/local/lib/python3.10/dist-packages (2.13.0)\n",
            "Requirement already satisfied: absl-py>=1.0.0 in /usr/local/lib/python3.10/dist-packages (from tensorflow==2.13.0) (1.4.0)\n",
            "Requirement already satisfied: astunparse>=1.6.0 in /usr/local/lib/python3.10/dist-packages (from tensorflow==2.13.0) (1.6.3)\n",
            "Requirement already satisfied: flatbuffers>=23.1.21 in /usr/local/lib/python3.10/dist-packages (from tensorflow==2.13.0) (23.5.26)\n",
            "Requirement already satisfied: gast<=0.4.0,>=0.2.1 in /usr/local/lib/python3.10/dist-packages (from tensorflow==2.13.0) (0.4.0)\n",
            "Requirement already satisfied: google-pasta>=0.1.1 in /usr/local/lib/python3.10/dist-packages (from tensorflow==2.13.0) (0.2.0)\n",
            "Requirement already satisfied: grpcio<2.0,>=1.24.3 in /usr/local/lib/python3.10/dist-packages (from tensorflow==2.13.0) (1.59.3)\n",
            "Requirement already satisfied: h5py>=2.9.0 in /usr/local/lib/python3.10/dist-packages (from tensorflow==2.13.0) (3.9.0)\n",
            "Requirement already satisfied: keras<2.14,>=2.13.1 in /usr/local/lib/python3.10/dist-packages (from tensorflow==2.13.0) (2.13.1)\n",
            "Requirement already satisfied: libclang>=13.0.0 in /usr/local/lib/python3.10/dist-packages (from tensorflow==2.13.0) (16.0.6)\n",
            "Requirement already satisfied: numpy<=1.24.3,>=1.22 in /usr/local/lib/python3.10/dist-packages (from tensorflow==2.13.0) (1.23.5)\n",
            "Requirement already satisfied: opt-einsum>=2.3.2 in /usr/local/lib/python3.10/dist-packages (from tensorflow==2.13.0) (3.3.0)\n",
            "Requirement already satisfied: packaging in /usr/local/lib/python3.10/dist-packages (from tensorflow==2.13.0) (23.2)\n",
            "Requirement already satisfied: protobuf!=4.21.0,!=4.21.1,!=4.21.2,!=4.21.3,!=4.21.4,!=4.21.5,<5.0.0dev,>=3.20.3 in /usr/local/lib/python3.10/dist-packages (from tensorflow==2.13.0) (3.20.3)\n",
            "Requirement already satisfied: setuptools in /usr/local/lib/python3.10/dist-packages (from tensorflow==2.13.0) (67.7.2)\n",
            "Requirement already satisfied: six>=1.12.0 in /usr/local/lib/python3.10/dist-packages (from tensorflow==2.13.0) (1.16.0)\n",
            "Requirement already satisfied: tensorboard<2.14,>=2.13 in /usr/local/lib/python3.10/dist-packages (from tensorflow==2.13.0) (2.13.0)\n",
            "Requirement already satisfied: tensorflow-estimator<2.14,>=2.13.0 in /usr/local/lib/python3.10/dist-packages (from tensorflow==2.13.0) (2.13.0)\n",
            "Requirement already satisfied: termcolor>=1.1.0 in /usr/local/lib/python3.10/dist-packages (from tensorflow==2.13.0) (2.3.0)\n",
            "Requirement already satisfied: typing-extensions<4.6.0,>=3.6.6 in /usr/local/lib/python3.10/dist-packages (from tensorflow==2.13.0) (4.5.0)\n",
            "Requirement already satisfied: wrapt>=1.11.0 in /usr/local/lib/python3.10/dist-packages (from tensorflow==2.13.0) (1.14.1)\n",
            "Requirement already satisfied: tensorflow-io-gcs-filesystem>=0.23.1 in /usr/local/lib/python3.10/dist-packages (from tensorflow==2.13.0) (0.34.0)\n",
            "Requirement already satisfied: wheel<1.0,>=0.23.0 in /usr/local/lib/python3.10/dist-packages (from astunparse>=1.6.0->tensorflow==2.13.0) (0.42.0)\n",
            "Requirement already satisfied: google-auth<3,>=1.6.3 in /usr/local/lib/python3.10/dist-packages (from tensorboard<2.14,>=2.13->tensorflow==2.13.0) (2.17.3)\n",
            "Requirement already satisfied: google-auth-oauthlib<1.1,>=0.5 in /usr/local/lib/python3.10/dist-packages (from tensorboard<2.14,>=2.13->tensorflow==2.13.0) (1.0.0)\n",
            "Requirement already satisfied: markdown>=2.6.8 in /usr/local/lib/python3.10/dist-packages (from tensorboard<2.14,>=2.13->tensorflow==2.13.0) (3.5.1)\n",
            "Requirement already satisfied: requests<3,>=2.21.0 in /usr/local/lib/python3.10/dist-packages (from tensorboard<2.14,>=2.13->tensorflow==2.13.0) (2.31.0)\n",
            "Requirement already satisfied: tensorboard-data-server<0.8.0,>=0.7.0 in /usr/local/lib/python3.10/dist-packages (from tensorboard<2.14,>=2.13->tensorflow==2.13.0) (0.7.2)\n",
            "Requirement already satisfied: werkzeug>=1.0.1 in /usr/local/lib/python3.10/dist-packages (from tensorboard<2.14,>=2.13->tensorflow==2.13.0) (3.0.1)\n",
            "Requirement already satisfied: cachetools<6.0,>=2.0.0 in /usr/local/lib/python3.10/dist-packages (from google-auth<3,>=1.6.3->tensorboard<2.14,>=2.13->tensorflow==2.13.0) (5.3.2)\n",
            "Requirement already satisfied: pyasn1-modules>=0.2.1 in /usr/local/lib/python3.10/dist-packages (from google-auth<3,>=1.6.3->tensorboard<2.14,>=2.13->tensorflow==2.13.0) (0.3.0)\n",
            "Requirement already satisfied: rsa<5,>=3.1.4 in /usr/local/lib/python3.10/dist-packages (from google-auth<3,>=1.6.3->tensorboard<2.14,>=2.13->tensorflow==2.13.0) (4.9)\n",
            "Requirement already satisfied: requests-oauthlib>=0.7.0 in /usr/local/lib/python3.10/dist-packages (from google-auth-oauthlib<1.1,>=0.5->tensorboard<2.14,>=2.13->tensorflow==2.13.0) (1.3.1)\n",
            "Requirement already satisfied: charset-normalizer<4,>=2 in /usr/local/lib/python3.10/dist-packages (from requests<3,>=2.21.0->tensorboard<2.14,>=2.13->tensorflow==2.13.0) (3.3.2)\n",
            "Requirement already satisfied: idna<4,>=2.5 in /usr/local/lib/python3.10/dist-packages (from requests<3,>=2.21.0->tensorboard<2.14,>=2.13->tensorflow==2.13.0) (3.6)\n",
            "Requirement already satisfied: urllib3<3,>=1.21.1 in /usr/local/lib/python3.10/dist-packages (from requests<3,>=2.21.0->tensorboard<2.14,>=2.13->tensorflow==2.13.0) (2.0.7)\n",
            "Requirement already satisfied: certifi>=2017.4.17 in /usr/local/lib/python3.10/dist-packages (from requests<3,>=2.21.0->tensorboard<2.14,>=2.13->tensorflow==2.13.0) (2023.11.17)\n",
            "Requirement already satisfied: MarkupSafe>=2.1.1 in /usr/local/lib/python3.10/dist-packages (from werkzeug>=1.0.1->tensorboard<2.14,>=2.13->tensorflow==2.13.0) (2.1.3)\n",
            "Requirement already satisfied: pyasn1<0.6.0,>=0.4.6 in /usr/local/lib/python3.10/dist-packages (from pyasn1-modules>=0.2.1->google-auth<3,>=1.6.3->tensorboard<2.14,>=2.13->tensorflow==2.13.0) (0.5.1)\n",
            "Requirement already satisfied: oauthlib>=3.0.0 in /usr/local/lib/python3.10/dist-packages (from requests-oauthlib>=0.7.0->google-auth-oauthlib<1.1,>=0.5->tensorboard<2.14,>=2.13->tensorflow==2.13.0) (3.2.2)\n"
          ]
        }
      ]
    },
    {
      "cell_type": "code",
      "execution_count": 61,
      "metadata": {
        "id": "s8VBJ_vpfaWZ"
      },
      "outputs": [],
      "source": [
        "# import os , time\n",
        "# import tensorflow as tf\n",
        "# import numpy as np\n",
        "\n",
        "# path_to_file = tf.keras.utils.get_file('shapespeare.txt',\n",
        "#                     'https://storage.googleapis.com/download.tensorflow.org/data/shakespeare.txt')\n",
        "\n",
        "# text = open(path_to_file , 'rb').read().decode(encoding = 'utf-8')\n",
        "# # print('length  of text: {} characters'.format(len(text)))\n",
        "\n",
        "# # print(len(text[:]))\n",
        "# vocab = sorted(set(text))\n",
        "# # print('{} unique characters'.format(len(vocab)))\n",
        "\n",
        "# # print('{} uique characters'.format(len(vocab)))\n",
        "\n",
        "\n",
        "# char2idx = {unique:idx for idx , unique in enumerate(vocab)}\n",
        "# idx2char = np.array(vocab)\n",
        "\n",
        "\n",
        "# text_as_int = np.array([char2idx[char] for char in text])\n",
        "# seq_length = 100\n",
        "# examples_per_epoch = len(text) // (seq_length + 1)\n",
        "\n",
        "# char_dataset = tf.data.Dataset.from_tensor_slices(text_as_int)\n",
        "\n",
        "# sequences = char_dataset.batch(seq_length+1 , drop_remainder = False)\n",
        "\n",
        "# def split_input_target(chunk):\n",
        "#   input_text =  chunk[:-1]\n",
        "#   target_text = chunk[1:]\n",
        "#   return input_text , target_text\n",
        "\n",
        "# dataset = sequences.map(split_input_target)\n",
        "# # for input_example, target_example in dataset.take(1):\n",
        "# #     print('Input data', repr(''.join(idx2char[input_example.numpy()])))\n",
        "# #     print('Target data', repr(''.join(idx2char[target_example.numpy()])))\n",
        "\n",
        "\n",
        "# # for i, (input_idx, target_idx) in enumerate(zip(input_example[:5],\n",
        "# #                                                 target_example[:5])):\n",
        "# #     print('Step {:4d}'.format(i))\n",
        "# #     print(' input: {} ({:s})'.format(input_idx, repr(idx2char[input_idx])))\n",
        "# #     print(' expected output: {} ({:s})'.format(target_idx,\n",
        "# #                                                repr(idx2char[target_idx])))\n",
        "\n",
        "# BATCH_SIZE = 64\n",
        "# BUFFER_SIZE = 10000\n",
        "\n",
        "\n",
        "# dataset  = dataset.shuffle(BUFFER_SIZE).batch(BATCH_SIZE , drop_remainder = True)\n",
        "\n",
        "\n",
        "# vocab_size = len(vocab)\n",
        "# embedding_dim = 256\n",
        "# rnn_units = 1024\n",
        "\n",
        "# def build_model(vocab_size , embedding_dim , rnn_units , batch_size):\n",
        "#   model = tf.keras.Sequential([\n",
        "\n",
        "#       tf.keras.layers.Embedding(vocab_size , embedding_dim ,\n",
        "#                                 batch_input_shape = [batch_size , None]) ,\n",
        "#       tf.keras.layers.GRU(rnn_units , return_sequences= True , stateful = True ,\n",
        "#                           recurrent_initializer = 'glorot_uniform'),\n",
        "#       tf.keras.layers.Dense(vocab_size)\n",
        "#   ])\n",
        "#   return model\n",
        "\n",
        "\n",
        "# model = build_model(vocab_size=len(vocab), embedding_dim=embedding_dim,\n",
        "#                    rnn_units=rnn_units, batch_size=BATCH_SIZE)\n",
        "\n",
        "# for input_example_batch, target_example_batch in dataset.take(1):\n",
        "#    example_batch_predictions = model(input_example_batch)\n",
        "#    print(example_batch_predictions.shape, '# (batch_size, seq_length, vocab_size)')\n",
        "\n",
        "# model.summary()\n",
        "\n",
        "# sampled_indices = tf.random.categorical(example_batch_predictions[0],\n",
        "#                                        num_samples=1)\n",
        "# sampled_indices = tf.squeeze(sampled_indices, axis=-1).numpy()\n",
        "\n",
        "# print(sampled_indices)\n",
        "# print('Input: \\n', repr(''.join(idx2char[input_example_batch[0]])))\n",
        "# print()\n",
        "# print('next char predictions: \\n', repr(''.join(idx2char[sampled_indices])))\n",
        "\n",
        "\n",
        "# #example_batch_loss = loss(target_example_batch, example_batch_predictions)\n",
        "# #print('prediction shape: ', example_batch_predictions.shape, '# batch_size, seq length, vocab size')\n",
        "# #print('scalar loss:      ', example_batch_loss.numpy().mean())\n",
        "\n",
        "# model.compile(optimizer='adam', loss=loss)\n",
        "\n",
        "# checkpoint_dir ='./training_checkpoints'\n",
        "# checkpoint_prefix = os.path.join(checkpoint_dir, 'ckpt_{epoch}')\n",
        "# checkpoint_callback = tf.keras.callbacks.ModelCheckpoint(\n",
        "#         filepath=checkpoint_prefix,\n",
        "#         save_weights_only=True)\n",
        "\n",
        "# EPOCHS = 100\n",
        "# history = model.fit(dataset, epochs=EPOCHS, callbacks=[checkpoint_callback])\n",
        "\n",
        "# model = build_model(vocab_size, embedding_dim, rnn_units, batch_size=1)\n",
        "# model.load_weights(tf.train.latest_checkpoint(checkpoint_dir))\n",
        "# model.build(tf.TensorShape([1,None]))\n",
        "# model.summary()\n",
        "\n",
        "# def generate_text(model, start_string):\n",
        "#     num_generate = 1000\n",
        "#     input_eval = [char2idx[s] for s in start_string]\n",
        "#     input_eval = tf.expand_dims(input_eval, 0)\n",
        "\n",
        "#     text_generated = []\n",
        "#     temperature = 1.0\n",
        "\n",
        "#     model.reset_states()\n",
        "\n",
        "#     for i in range(num_generate):\n",
        "#         predictions = model(input_eval)\n",
        "#         predictions = tf.squeeze(predictions, 0)\n",
        "\n",
        "#         predictions = predictions / temperature\n",
        "#         predicted_id = tf.random.categorical(predictions,\n",
        "#                                              num_samples=1)[-1, 0].numpy()\n",
        "#         input_eval = tf.expand_dims([predicted_id],0)\n",
        "#         text_generated.append(idx2char[predicted_id])\n",
        "#     return (start_string + ''.join(text_generated))\n",
        "\n",
        "# print(generate_text(model, start_string='ROMEO: '))\n",
        "\n"
      ]
    },
    {
      "cell_type": "code",
      "execution_count": 51,
      "metadata": {
        "id": "RL5ELK4pnm2L",
        "colab": {
          "base_uri": "https://localhost:8080/"
        },
        "outputId": "0dfe5d2d-087f-4c3f-ab1e-69a87e4a2d1b"
      },
      "outputs": [
        {
          "output_type": "stream",
          "name": "stdout",
          "text": [
            "(64, 100, 65) # (batch_size, seq_length, vocab_size)\n"
          ]
        }
      ],
      "source": [
        "# model = build_model(vocab_size=len(vocab), embedding_dim=embedding_dim,\n",
        "#                    rnn_units=rnn_units, batch_size=BATCH_SIZE)\n",
        "\n",
        "\n",
        "# for input_example_batch, target_example_batch in dataset.take(1):\n",
        "#    example_batch_predictions = model(input_example_batch)\n",
        "#    print(example_batch_predictions.shape, '# (batch_size, seq_length, vocab_size)')\n",
        "\n",
        "\n",
        "\n",
        "\n",
        "# for input_example, target_example in dataset.take(1):\n",
        "#     print('Input data', repr(''.join(idx2char[input_example.numpy()])))\n",
        "#     print('Target data', repr(''.join(idx2char[target_example.numpy()])))\n",
        "\n",
        "\n",
        "# for i, (input_idx, target_idx) in enumerate(zip(input_example[:5],\n",
        "#                                                 target_example[:5])):\n",
        "#     print('Step {:4d}'.format(i))\n",
        "#     print(' input: {} ({:s})'.format(input_idx, repr(idx2char[input_idx])))\n",
        "#     print(' expected output: {} ({:s})'.format(target_idx,\n",
        "#                                                repr(idx2char[target_idx])))"
      ]
    }
  ],
  "metadata": {
    "colab": {
      "provenance": [],
      "gpuType": "T4",
      "authorship_tag": "ABX9TyNhx1oF2IBLx0AQAITMbDL9",
      "include_colab_link": true
    },
    "kernelspec": {
      "display_name": "Python 3",
      "name": "python3"
    },
    "language_info": {
      "name": "python"
    },
    "accelerator": "GPU"
  },
  "nbformat": 4,
  "nbformat_minor": 0
}